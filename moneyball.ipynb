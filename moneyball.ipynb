{
 "metadata": {
  "language_info": {
   "codemirror_mode": {
    "name": "ipython",
    "version": 3
   },
   "file_extension": ".py",
   "mimetype": "text/x-python",
   "name": "python",
   "nbconvert_exporter": "python",
   "pygments_lexer": "ipython3",
   "version": "3.7.2-final"
  },
  "orig_nbformat": 2,
  "kernelspec": {
   "name": "python3",
   "display_name": "Python 3",
   "language": "python"
  }
 },
 "nbformat": 4,
 "nbformat_minor": 2,
 "cells": [
  {
   "source": [
    "# Moneyball - Exploratory Analysis"
   ],
   "cell_type": "markdown",
   "metadata": {}
  },
  {
   "source": [
    "## Construct Datasets(Training, Validation Testing) - Baseball Teams and Stats"
   ],
   "cell_type": "markdown",
   "metadata": {}
  },
  {
   "cell_type": "code",
   "execution_count": 36,
   "metadata": {},
   "outputs": [],
   "source": [
    "import pandas as pd\n",
    "import math"
   ]
  },
  {
   "cell_type": "code",
   "execution_count": 37,
   "metadata": {},
   "outputs": [],
   "source": [
    "moneyball = pd.read_csv(\"baseball.csv\")"
   ]
  },
  {
   "source": [
    "### Overall Dataset"
   ],
   "cell_type": "markdown",
   "metadata": {}
  },
  {
   "cell_type": "code",
   "execution_count": 38,
   "metadata": {},
   "outputs": [
    {
     "output_type": "stream",
     "name": "stdout",
     "text": [
      "Shape: (1232, 15)\nPreview:\n <bound method NDFrame.head of      Team League  Year   RS   RA    W    OBP    SLG     BA  Playoffs  \\\n0     ARI     NL  2012  734  688   81  0.328  0.418  0.259         0   \n1     ATL     NL  2012  700  600   94  0.320  0.389  0.247         1   \n2     BAL     AL  2012  712  705   93  0.311  0.417  0.247         1   \n3     BOS     AL  2012  734  806   69  0.315  0.415  0.260         0   \n4     CHC     NL  2012  613  759   61  0.302  0.378  0.240         0   \n...   ...    ...   ...  ...  ...  ...    ...    ...    ...       ...   \n1227  PHI     NL  1962  705  759   81  0.330  0.390  0.260         0   \n1228  PIT     NL  1962  706  626   93  0.321  0.394  0.268         0   \n1229  SFG     NL  1962  878  690  103  0.341  0.441  0.278         1   \n1230  STL     NL  1962  774  664   84  0.335  0.394  0.271         0   \n1231  WSA     AL  1962  599  716   60  0.308  0.373  0.250         0   \n\n      RankSeason  RankPlayoffs    G   OOBP   OSLG  \n0            NaN           NaN  162  0.317  0.415  \n1            4.0           5.0  162  0.306  0.378  \n2            5.0           4.0  162  0.315  0.403  \n3            NaN           NaN  162  0.331  0.428  \n4            NaN           NaN  162  0.335  0.424  \n...          ...           ...  ...    ...    ...  \n1227         NaN           NaN  161    NaN    NaN  \n1228         NaN           NaN  161    NaN    NaN  \n1229         1.0           2.0  165    NaN    NaN  \n1230         NaN           NaN  163    NaN    NaN  \n1231         NaN           NaN  162    NaN    NaN  \n\n[1232 rows x 15 columns]>\n"
     ]
    }
   ],
   "source": [
    "print(\"Shape:\", moneyball.shape)\n",
    "print(\"Preview:\\n\", moneyball.head)"
   ]
  },
  {
   "source": [
    "### Training/Validation Subset (1999-2009)"
   ],
   "cell_type": "markdown",
   "metadata": {}
  },
  {
   "cell_type": "code",
   "execution_count": 39,
   "metadata": {},
   "outputs": [
    {
     "output_type": "stream",
     "name": "stdout",
     "text": [
      "Shape:  (330, 15)\nPreview:\n  <bound method NDFrame.head of     Team League  Year   RS   RA   W    OBP    SLG     BA  Playoffs  \\\n90   ARI     NL  2009  720  782  70  0.324  0.418  0.253         0   \n91   ATL     NL  2009  735  641  86  0.339  0.405  0.263         0   \n92   BAL     AL  2009  741  876  64  0.332  0.415  0.268         0   \n93   BOS     AL  2009  872  736  95  0.352  0.454  0.270         1   \n94   CHC     NL  2009  707  672  83  0.332  0.407  0.255         0   \n..   ...    ...   ...  ...  ...  ..    ...    ...    ...       ...   \n415  SFG     NL  1999  872  831  86  0.356  0.434  0.271         0   \n416  STL     NL  1999  809  838  75  0.338  0.426  0.262         0   \n417  TBD     AL  1999  772  913  69  0.343  0.411  0.274         0   \n418  TEX     AL  1999  945  859  95  0.361  0.479  0.293         1   \n419  TOR     AL  1999  883  862  84  0.352  0.457  0.280         0   \n\n     RankSeason  RankPlayoffs    G   OOBP   OSLG  \n90          NaN           NaN  162  0.330  0.419  \n91          NaN           NaN  162  0.323  0.390  \n92          NaN           NaN  162  0.353  0.476  \n93          3.0           4.0  162  0.335  0.422  \n94          NaN           NaN  161  0.324  0.391  \n..          ...           ...  ...    ...    ...  \n415         NaN           NaN  162  0.345  0.423  \n416         NaN           NaN  161  0.355  0.427  \n417         NaN           NaN  162  0.371  0.448  \n418         5.0           4.0  162  0.346  0.459  \n419         NaN           NaN  162  0.353  0.456  \n\n[330 rows x 15 columns]>\n"
     ]
    }
   ],
   "source": [
    "isNot2010s = moneyball[\"Year\"]<2010\n",
    "moneyballNot2010s = moneyball[isNot2010s]\n",
    "\n",
    "is1999s = moneyballNot2010s[\"Year\"] >= 1999\n",
    "\n",
    "#This is our training set. Needs to be divided up later for validation\n",
    "moneyball_training = moneyballNot2010s[is1999s]\n",
    "\n",
    "print(\"Shape: \", moneyball_training.shape)\n",
    "print(\"Preview:\\n \", moneyball_training.head)"
   ]
  },
  {
   "source": [
    "### Testing Subset (2000-2012)"
   ],
   "cell_type": "markdown",
   "metadata": {}
  },
  {
   "cell_type": "code",
   "execution_count": 40,
   "metadata": {},
   "outputs": [
    {
     "output_type": "stream",
     "name": "stdout",
     "text": [
      "Shape: (90, 15)\nPreview: <bound method NDFrame.head of    Team League  Year   RS   RA   W    OBP    SLG     BA  Playoffs  RankSeason  \\\n0   ARI     NL  2012  734  688  81  0.328  0.418  0.259         0         NaN   \n1   ATL     NL  2012  700  600  94  0.320  0.389  0.247         1         4.0   \n2   BAL     AL  2012  712  705  93  0.311  0.417  0.247         1         5.0   \n3   BOS     AL  2012  734  806  69  0.315  0.415  0.260         0         NaN   \n4   CHC     NL  2012  613  759  61  0.302  0.378  0.240         0         NaN   \n..  ...    ...   ...  ...  ...  ..    ...    ...    ...       ...         ...   \n85  STL     NL  2010  736  641  86  0.332  0.402  0.263         0         NaN   \n86  TBR     AL  2010  802  649  96  0.333  0.403  0.247         1         2.0   \n87  TEX     AL  2010  787  687  90  0.338  0.419  0.276         1         7.0   \n88  TOR     AL  2010  755  728  85  0.312  0.454  0.248         0         NaN   \n89  WSN     NL  2010  655  742  69  0.318  0.390  0.250         0         NaN   \n\n    RankPlayoffs    G   OOBP   OSLG  \n0            NaN  162  0.317  0.415  \n1            5.0  162  0.306  0.378  \n2            4.0  162  0.315  0.403  \n3            NaN  162  0.331  0.428  \n4            NaN  162  0.335  0.424  \n..           ...  ...    ...    ...  \n85           NaN  162  0.319  0.387  \n86           4.0  162  0.308  0.404  \n87           2.0  162  0.319  0.390  \n88           NaN  162  0.326  0.405  \n89           NaN  162  0.330  0.410  \n\n[90 rows x 15 columns]>\n"
     ]
    }
   ],
   "source": [
    "is2010s = moneyball['Year']>=2010\n",
    "moneyball_test = moneyball[is2010s]\n",
    "\n",
    "print('Shape:', moneyball_test.shape)\n",
    "print('Preview:', moneyball_test.head)"
   ]
  },
  {
   "source": [
    "## Construct Graph"
   ],
   "cell_type": "markdown",
   "metadata": {}
  },
  {
   "source": [
    "graph = {}\n",
    "weight = {}"
   ],
   "cell_type": "code",
   "metadata": {},
   "execution_count": 41,
   "outputs": []
  },
  {
   "source": [
    "### Construct Nodes for Graph"
   ],
   "cell_type": "markdown",
   "metadata": {}
  },
  {
   "cell_type": "code",
   "execution_count": 42,
   "metadata": {
    "tags": []
   },
   "outputs": [],
   "source": [
    "#import baseball_node class\n",
    "from baseball_node import Baseball_Node\n",
    "\n",
    "for index, row in moneyball_training.iterrows():\n",
    "    team, year, league, rs, ra, w, obp, slg, oobp, oslg, playoffs = row['Team'], row['Year'],row['League'],row['RS'],row['RA'],row['W'],row['OBP'],row['SLG'],row['OOBP'],row['OSLG'],row['Playoffs']\n",
    "\n",
    "    node = Baseball_Node(team, year, league, rs, ra, w, obp, slg, oobp, oslg, playoffs)\n",
    "    graph[node] = []"
   ]
  },
  {
   "source": [
    "### Add Nodes, Edges, and Weights to the Graph"
   ],
   "cell_type": "markdown",
   "metadata": {}
  },
  {
   "cell_type": "code",
   "execution_count": 43,
   "metadata": {
    "tags": []
   },
   "outputs": [],
   "source": [
    "#make a fully connected graph by adding neighbors to adjacency list. Update weight dictionary with the weights of each node edge.\n",
    "for team1 in graph:\n",
    "    for team2 in graph:\n",
    "        if team1 != team2:\n",
    "            graph[team1].append(team2)\n",
    "            dist = team1.getEuclideanDistance(team2)\n",
    "            weight[(team1,team2)] = dist"
   ]
  },
  {
   "source": [
    "#### Helper Function for Sorting the Weights"
   ],
   "cell_type": "markdown",
   "metadata": {}
  },
  {
   "cell_type": "code",
   "execution_count": 44,
   "metadata": {},
   "outputs": [],
   "source": [
    "#helper function for sorting\n",
    "def takeSecond(elem):\n",
    "    return elem[1]"
   ]
  },
  {
   "cell_type": "code",
   "execution_count": 45,
   "metadata": {},
   "outputs": [],
   "source": [
    "KNN_Values = [x for x in range(0,51) if x % 2 == 1]\n",
    "test_teams_count = moneyball_test.shape[0] "
   ]
  },
  {
   "source": [
    "### Run KNN on our Testing Data"
   ],
   "cell_type": "markdown",
   "metadata": {}
  },
  {
   "cell_type": "code",
   "execution_count": 46,
   "metadata": {
    "tags": []
   },
   "outputs": [],
   "source": [
    "def KNN(k_value):\n",
    "    decision_diffs = []\n",
    "    for index,row in moneyball_test.iterrows():\n",
    "        team, year, league, rs, ra, w, obp, slg, oobp, oslg, playoffs = row['Team'], row['Year'],row['League'],row['RS'],row['RA'],row['W'],row['OBP'],row['SLG'],row['OOBP'],row['OSLG'],row['Playoffs']\n",
    "\n",
    "        test_node = Baseball_Node(team, year, league, rs, ra, w, obp, slg, oobp, oslg, playoffs)\n",
    "        test_graph = graph\n",
    "        test_graph[test_node] = []\n",
    "        test_weights = weight\n",
    "        for team in test_graph:\n",
    "            if(team !=test_node):\n",
    "                test_graph[test_node].append(team)\n",
    "                test_graph[team].append(test_node)\n",
    "\n",
    "                dist = team.getEuclideanDistance(test_node)\n",
    "\n",
    "                test_weights[(team, test_node)] = dist\n",
    "                test_weights[(test_node, team)] = dist\n",
    "        \n",
    "        test_node_neighbors = test_graph[test_node]\n",
    "        test_node_neighbor_weights = [[neighbor, test_weights[(test_node, neighbor)]] for neighbor in test_node_neighbors]\n",
    "\n",
    "        test_node_neighbor_weights.sort(key=takeSecond)\n",
    "\n",
    "        test_node_nighbor_weights = [node for node in test_node_neighbor_weights if node[0].team_id != test_node.team_id]\n",
    "\n",
    "        KNN_Neighbors = []\n",
    "        KNN_decision = []\n",
    "\n",
    "        neighbors = [(team[0], team[1]) for team in test_node_neighbor_weights[:k_value]]\n",
    "        KNN_Neighbors.append(neighbors)\n",
    "\n",
    "        decision = 1 if sum([team[0].playoff for team in neighbors]) > 0 else -1\n",
    "        decision_diff = 1 if decision == team.playoff else 0 \n",
    "        decision_diffs.append(decision_diff)\n",
    "    return decision_diffs\n"
   ]
  },
  {
   "cell_type": "code",
   "execution_count": 47,
   "metadata": {
    "tags": []
   },
   "outputs": [
    {
     "output_type": "stream",
     "name": "stdout",
     "text": [
      "Currently Running KNN for K= 1\n",
      "Currently Running KNN for K= 3\n",
      "Currently Running KNN for K= 5\n",
      "Currently Running KNN for K= 7\n",
      "Currently Running KNN for K= 9\n",
      "Currently Running KNN for K= 11\n",
      "Currently Running KNN for K= 13\n",
      "Currently Running KNN for K= 15\n",
      "Currently Running KNN for K= 17\n",
      "Currently Running KNN for K= 19\n",
      "Currently Running KNN for K= 21\n",
      "Currently Running KNN for K= 23\n",
      "Currently Running KNN for K= 25\n",
      "Currently Running KNN for K= 27\n",
      "Currently Running KNN for K= 29\n",
      "Currently Running KNN for K= 31\n",
      "Currently Running KNN for K= 33\n",
      "Currently Running KNN for K= 35\n",
      "Currently Running KNN for K= 37\n",
      "Currently Running KNN for K= 39\n",
      "Currently Running KNN for K= 41\n",
      "Currently Running KNN for K= 43\n",
      "Currently Running KNN for K= 45\n",
      "Currently Running KNN for K= 47\n",
      "Currently Running KNN for K= 49\n",
      "[0.7667, 0.8778, 0.8889, 0.8889, 0.9111, 0.9111, 0.9111, 0.9111, 0.9111, 0.9111, 0.9111, 0.9111, 0.9111, 0.9111, 0.9111, 0.9111, 0.9111, 0.9111, 0.9111, 0.9111, 0.9111, 0.9111, 0.9111, 0.9111, 0.9111]\n"
     ]
    }
   ],
   "source": [
    "\n",
    "success_rates = []\n",
    "\n",
    "for k in KNN_Values:\n",
    "    print(\"Currently Running KNN for K=\", k)\n",
    "    success_rate = round(sum(KNN(k))/test_teams_count, 4)\n",
    "    success_rates.append(success_rate)\n",
    "\n",
    "print(success_rates)    \n"
   ]
  },
  {
   "source": [
    "### Graph the Result"
   ],
   "cell_type": "markdown",
   "metadata": {}
  },
  {
   "cell_type": "code",
   "execution_count": 48,
   "metadata": {},
   "outputs": [
    {
     "output_type": "display_data",
     "data": {
      "text/plain": "<Figure size 432x288 with 1 Axes>",
      "image/png": "[encoded data removed]"
     },
     "metadata": {
      "needs_background": "light"
     }
    }
   ],
   "source": [
    "import matplotlib.pyplot as plt\n",
    "X_Values = KNN_Values\n",
    "Y_Values = success_rates\n",
    "plt.xlabel(\"K-Values\")\n",
    "plt.ylabel(\"Success_Rate\")\n",
    "plt.title(\"K-Values vs Success Rate\", )\n",
    "plt.plot(X_Values, Y_Values)\n",
    "plt.show()"
   ]
  }
 ]
}